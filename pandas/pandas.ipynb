{
 "cells": [
  {
   "attachments": {},
   "cell_type": "markdown",
   "metadata": {},
   "source": [
    "# PANDAS : Pandas is a python package that provides facts,flexible and expensive data structure designed to make working with 'relationals' or 'labelled' data both easy and intutive .\n",
    "It aims to be the fundamental high-level building block for doing practical ,Real world data analysis in Python"
   ]
  },
  {
   "attachments": {},
   "cell_type": "markdown",
   "metadata": {},
   "source": [
    "DataFrame and series are quite similarly in that many you can do with other,such as filling in null values and calculating the mean.\n",
    "The two primary component of the pandas are: \n",
    "1: Series  A series is essentially a column  \n",
    "2: DataFrame: A dataFrame is a multi dimentional table made up of the series."
   ]
  },
  {
   "attachments": {},
   "cell_type": "markdown",
   "metadata": {},
   "source": [
    "Lets take the example formation of Dataset :\n",
    "There are the different ways to create the dataset .\n",
    "1:by the dictionary\n",
    "2:By the list\n",
    "3:Numpy array\n",
    "Below three one are their example"
   ]
  },
  {
   "cell_type": "code",
   "execution_count": 1,
   "metadata": {},
   "outputs": [
    {
     "name": "stdout",
     "output_type": "stream",
     "text": [
      "   apple  orrange\n",
      "0      2        3\n",
      "1      1        2\n",
      "2      3        3\n",
      "3      4        6\n"
     ]
    }
   ],
   "source": [
    "import pandas as pd\n",
    "data={\n",
    "    'apple':[2,1,3,4],\n",
    "    'orrange':[3,2,3,6]\n",
    "}\n",
    "purchase=pd.DataFrame(data)\n",
    "print(purchase)"
   ]
  },
  {
   "cell_type": "code",
   "execution_count": 2,
   "metadata": {},
   "outputs": [
    {
     "name": "stdout",
     "output_type": "stream",
     "text": [
      "using list\n",
      "          0   1    2  3\n",
      "0   adarsh  21  198  A\n",
      "1     ravi  20  165  B\n",
      "2  kanishk  22  197  A \n",
      "using column list\n",
      "       name age  height grade\n",
      "0   adarsh  21     198     A\n",
      "1     ravi  20     165     B\n",
      "2  kanishk  22     197     A\n"
     ]
    }
   ],
   "source": [
    "import pandas as pf\n",
    "p_list=[['adarsh',21,198,'A'],['ravi','20',165,\"B\"],['kanishk',22,197,'A']]\n",
    "data=pf.DataFrame(p_list)\n",
    "data_1=pf.DataFrame(p_list,columns=['name','age','height','grade'])\n",
    "print(\"using list\\n\",data,\"\\nusing column list\\n\",data_1)\n",
    "\n",
    "#we  can also assign the columns as like\n"
   ]
  },
  {
   "cell_type": "code",
   "execution_count": 3,
   "metadata": {},
   "outputs": [
    {
     "name": "stdout",
     "output_type": "stream",
     "text": [
      "matrix is:\n",
      "  [[1 4 1]\n",
      " [5 3 2]\n",
      " [8 7 5]\n",
      " [2 6 4]]\n",
      "   col0  col1  col2\n",
      "0     1     4     1\n",
      "1     5     3     2\n",
      "2     8     7     5\n",
      "3     2     6     4\n"
     ]
    }
   ],
   "source": [
    "#using mpy array\n",
    "import numpy as np\n",
    "import pandas as pd\n",
    "import random \n",
    "arr=np.random.randint(1,10,size=(4,3))\n",
    "print(\"matrix is:\\n \",arr)\n",
    "df=pd.DataFrame(arr,columns=['col0','col1','col2'])\n",
    "print(df)"
   ]
  },
  {
   "attachments": {},
   "cell_type": "markdown",
   "metadata": {},
   "source": [
    "At the above three we notice that index is same in all so we also have one value as index=['I0','I1','I3']\n",
    "lets done one example of it"
   ]
  },
  {
   "cell_type": "code",
   "execution_count": 4,
   "metadata": {},
   "outputs": [
    {
     "name": "stdout",
     "output_type": "stream",
     "text": [
      "our table is: \n",
      "         apple  mango  orange  pineapple  banana\n",
      "fruit0      2      3       2          1       4\n",
      "fruit1      3      4       5          5       5\n",
      "fruit2      5      5       7          7       7\n",
      "fruit3      7      9       9          8       9\n"
     ]
    }
   ],
   "source": [
    "import pandas as pf\n",
    "fruits={\n",
    "    'apple':[2,3,5,7],\n",
    "    'mango':[3,4,5,9],\n",
    "    'orange':[2,5,7,9],\n",
    "    'pineapple':[1,5,7,8],\n",
    "    'banana':[4,5,7,9],\n",
    "}\n",
    "df=pf.DataFrame(fruits,index=['fruit0','fruit1','fruit2','fruit3'])\n",
    "print(\"our table is: \\n\",df)"
   ]
  },
  {
   "attachments": {},
   "cell_type": "markdown",
   "metadata": {},
   "source": [
    "**Loc()** : This function belongs to work when you  wanted to get the data of small index wise it means for the two or three rows\n"
   ]
  },
  {
   "cell_type": "code",
   "execution_count": 5,
   "metadata": {},
   "outputs": [
    {
     "name": "stdout",
     "output_type": "stream",
     "text": [
      "       mango  banana\n",
      "one        2       4\n",
      "two        6       5\n",
      "three      8       7\n",
      "four       5       4\n",
      "\n",
      "mango     2\n",
      "banana    4\n",
      "Name: one, dtype: int64\n",
      "\n",
      "mango     8\n",
      "banana    7\n",
      "Name: three, dtype: int64\n"
     ]
    }
   ],
   "source": [
    "import pandas as pr\n",
    "fruit={\n",
    "    'mango':[2,6,8,5],\n",
    "    'banana':[4,5,7,4],\n",
    "}\n",
    "data_set=pr.DataFrame(fruit,index=['one','two','three','four'])\n",
    "print(data_set)\n",
    "#using of loc method\n",
    "print()\n",
    "loc=data_set.loc['one']\n",
    "print(loc)\n",
    "print()\n",
    "loc1=data_set.loc['three']\n",
    "print(loc1)"
   ]
  },
  {
   "attachments": {},
   "cell_type": "markdown",
   "metadata": {},
   "source": [
    "# example for practises"
   ]
  },
  {
   "cell_type": "code",
   "execution_count": 6,
   "metadata": {},
   "outputs": [
    {
     "data": {
      "text/html": [
       "<div>\n",
       "<style scoped>\n",
       "    .dataframe tbody tr th:only-of-type {\n",
       "        vertical-align: middle;\n",
       "    }\n",
       "\n",
       "    .dataframe tbody tr th {\n",
       "        vertical-align: top;\n",
       "    }\n",
       "\n",
       "    .dataframe thead th {\n",
       "        text-align: right;\n",
       "    }\n",
       "</style>\n",
       "<table border=\"1\" class=\"dataframe\">\n",
       "  <thead>\n",
       "    <tr style=\"text-align: right;\">\n",
       "      <th></th>\n",
       "      <th>yes</th>\n",
       "      <th>no</th>\n",
       "    </tr>\n",
       "  </thead>\n",
       "  <tbody>\n",
       "    <tr>\n",
       "      <th>0</th>\n",
       "      <td>50</td>\n",
       "      <td>131</td>\n",
       "    </tr>\n",
       "    <tr>\n",
       "      <th>1</th>\n",
       "      <td>21</td>\n",
       "      <td>2</td>\n",
       "    </tr>\n",
       "  </tbody>\n",
       "</table>\n",
       "</div>"
      ],
      "text/plain": [
       "   yes   no\n",
       "0   50  131\n",
       "1   21    2"
      ]
     },
     "execution_count": 6,
     "metadata": {},
     "output_type": "execute_result"
    }
   ],
   "source": [
    "import pandas as pd\n",
    "dict={\n",
    "    'yes':[50,21],\n",
    "    'no':[131,2]\n",
    "}\n",
    "ps=pd.DataFrame(dict)\n",
    "ps"
   ]
  },
  {
   "cell_type": "code",
   "execution_count": 7,
   "metadata": {},
   "outputs": [
    {
     "data": {
      "text/html": [
       "<div>\n",
       "<style scoped>\n",
       "    .dataframe tbody tr th:only-of-type {\n",
       "        vertical-align: middle;\n",
       "    }\n",
       "\n",
       "    .dataframe tbody tr th {\n",
       "        vertical-align: top;\n",
       "    }\n",
       "\n",
       "    .dataframe thead th {\n",
       "        text-align: right;\n",
       "    }\n",
       "</style>\n",
       "<table border=\"1\" class=\"dataframe\">\n",
       "  <thead>\n",
       "    <tr style=\"text-align: right;\">\n",
       "      <th></th>\n",
       "      <th>bob</th>\n",
       "      <th>sue</th>\n",
       "    </tr>\n",
       "  </thead>\n",
       "  <tbody>\n",
       "    <tr>\n",
       "      <th>product 1</th>\n",
       "      <td>i like it</td>\n",
       "      <td>pretty good</td>\n",
       "    </tr>\n",
       "    <tr>\n",
       "      <th>product 2</th>\n",
       "      <td>it was awful</td>\n",
       "      <td>bland!</td>\n",
       "    </tr>\n",
       "  </tbody>\n",
       "</table>\n",
       "</div>"
      ],
      "text/plain": [
       "                    bob          sue\n",
       "product 1     i like it  pretty good\n",
       "product 2  it was awful       bland!"
      ]
     },
     "execution_count": 7,
     "metadata": {},
     "output_type": "execute_result"
    }
   ],
   "source": [
    "import pandas as pf\n",
    "dict1={\n",
    "    'bob':[\"i like it\",'it was awful'],\n",
    "    'sue':[\"pretty good\",\"bland!\"]\n",
    "}\n",
    "data=pf.DataFrame(dict1,index=['product 1',\"product 2\"])\n",
    "data\n"
   ]
  },
  {
   "attachments": {},
   "cell_type": "markdown",
   "metadata": {},
   "source": [
    "# How to read in data:With CSV files all you need is a single line to load in the data:"
   ]
  },
  {
   "cell_type": "code",
   "execution_count": 8,
   "metadata": {},
   "outputs": [],
   "source": [
    "import pandas as pd\n",
    "#df=pd.read_csv('languages.csv',encoding=\"unicode_escape\")\n",
    "#df\n",
    "dl=pd.read_csv(\"csv/languages.csv\",encoding=\"unicode_escape\")\n"
   ]
  },
  {
   "attachments": {},
   "cell_type": "markdown",
   "metadata": {},
   "source": [
    "In pandas there two functions for giving result of the starting row and lasting row\n",
    "head():This is used to print the five rows of your dataframe as well **df.head()** or we can also use the **df.head(10)** for this no we can print the no of rows\n",
    "Tail(): It give the last five row and also accept thebno in case of printed last rows **df.tail()** and **df.tail(10)** it printed the 10 rows from the bottom"
   ]
  },
  {
   "cell_type": "code",
   "execution_count": 9,
   "metadata": {},
   "outputs": [
    {
     "data": {
      "text/html": [
       "<div>\n",
       "<style scoped>\n",
       "    .dataframe tbody tr th:only-of-type {\n",
       "        vertical-align: middle;\n",
       "    }\n",
       "\n",
       "    .dataframe tbody tr th {\n",
       "        vertical-align: top;\n",
       "    }\n",
       "\n",
       "    .dataframe thead th {\n",
       "        text-align: right;\n",
       "    }\n",
       "</style>\n",
       "<table border=\"1\" class=\"dataframe\">\n",
       "  <thead>\n",
       "    <tr style=\"text-align: right;\">\n",
       "      <th></th>\n",
       "      <th>name</th>\n",
       "      <th>year</th>\n",
       "      <th>quarter</th>\n",
       "      <th>count</th>\n",
       "    </tr>\n",
       "  </thead>\n",
       "  <tbody>\n",
       "    <tr>\n",
       "      <th>3452</th>\n",
       "      <td>Ruby</td>\n",
       "      <td>2022</td>\n",
       "      <td>1</td>\n",
       "      <td>483</td>\n",
       "    </tr>\n",
       "    <tr>\n",
       "      <th>3453</th>\n",
       "      <td>PHP</td>\n",
       "      <td>2022</td>\n",
       "      <td>1</td>\n",
       "      <td>445</td>\n",
       "    </tr>\n",
       "    <tr>\n",
       "      <th>3454</th>\n",
       "      <td>C++</td>\n",
       "      <td>2022</td>\n",
       "      <td>1</td>\n",
       "      <td>349</td>\n",
       "    </tr>\n",
       "    <tr>\n",
       "      <th>3455</th>\n",
       "      <td>Nix</td>\n",
       "      <td>2022</td>\n",
       "      <td>1</td>\n",
       "      <td>279</td>\n",
       "    </tr>\n",
       "    <tr>\n",
       "      <th>3456</th>\n",
       "      <td>Go</td>\n",
       "      <td>2022</td>\n",
       "      <td>1</td>\n",
       "      <td>206</td>\n",
       "    </tr>\n",
       "    <tr>\n",
       "      <th>3457</th>\n",
       "      <td>C#</td>\n",
       "      <td>2022</td>\n",
       "      <td>1</td>\n",
       "      <td>187</td>\n",
       "    </tr>\n",
       "    <tr>\n",
       "      <th>3458</th>\n",
       "      <td>C</td>\n",
       "      <td>2022</td>\n",
       "      <td>1</td>\n",
       "      <td>152</td>\n",
       "    </tr>\n",
       "    <tr>\n",
       "      <th>3459</th>\n",
       "      <td>HTML</td>\n",
       "      <td>2022</td>\n",
       "      <td>1</td>\n",
       "      <td>134</td>\n",
       "    </tr>\n",
       "    <tr>\n",
       "      <th>3460</th>\n",
       "      <td>Scala</td>\n",
       "      <td>2022</td>\n",
       "      <td>1</td>\n",
       "      <td>110</td>\n",
       "    </tr>\n",
       "    <tr>\n",
       "      <th>3461</th>\n",
       "      <td>Shell</td>\n",
       "      <td>2022</td>\n",
       "      <td>1</td>\n",
       "      <td>103</td>\n",
       "    </tr>\n",
       "  </tbody>\n",
       "</table>\n",
       "</div>"
      ],
      "text/plain": [
       "       name  year  quarter  count\n",
       "3452   Ruby  2022        1    483\n",
       "3453    PHP  2022        1    445\n",
       "3454    C++  2022        1    349\n",
       "3455    Nix  2022        1    279\n",
       "3456     Go  2022        1    206\n",
       "3457     C#  2022        1    187\n",
       "3458      C  2022        1    152\n",
       "3459   HTML  2022        1    134\n",
       "3460  Scala  2022        1    110\n",
       "3461  Shell  2022        1    103"
      ]
     },
     "execution_count": 9,
     "metadata": {},
     "output_type": "execute_result"
    }
   ],
   "source": [
    "import pandas as p\n",
    "languages=p.read_csv(\"csv/languages.csv\")\n",
    "#languages.head(7)\n",
    "languages.tail(10)"
   ]
  },
  {
   "attachments": {},
   "cell_type": "markdown",
   "metadata": {},
   "source": [
    "**info() :This is used to know how much dataset use its memory .And all the basically information of the data.**"
   ]
  },
  {
   "cell_type": "code",
   "execution_count": 10,
   "metadata": {},
   "outputs": [
    {
     "name": "stdout",
     "output_type": "stream",
     "text": [
      "<class 'pandas.core.frame.DataFrame'>\n",
      "RangeIndex: 3462 entries, 0 to 3461\n",
      "Data columns (total 4 columns):\n",
      " #   Column   Non-Null Count  Dtype \n",
      "---  ------   --------------  ----- \n",
      " 0   name     3462 non-null   object\n",
      " 1   year     3462 non-null   int64 \n",
      " 2   quarter  3462 non-null   int64 \n",
      " 3   count    3462 non-null   int64 \n",
      "dtypes: int64(3), object(1)\n",
      "memory usage: 108.3+ KB\n"
     ]
    }
   ],
   "source": [
    "languages.info()"
   ]
  },
  {
   "cell_type": "code",
   "execution_count": 11,
   "metadata": {},
   "outputs": [
    {
     "data": {
      "text/plain": [
       "(3462, 4)"
      ]
     },
     "execution_count": 11,
     "metadata": {},
     "output_type": "execute_result"
    }
   ],
   "source": [
    "languages.shape"
   ]
  },
  {
   "attachments": {},
   "cell_type": "markdown",
   "metadata": {},
   "source": [
    "**Handling dublicate: Many of the datasets having the duplicates data or dupicate rows,but it is very important to verify the aggregated data**This bring to dupicate the data and just increase your data 2 times\n"
   ]
  },
  {
   "cell_type": "code",
   "execution_count": 12,
   "metadata": {},
   "outputs": [
    {
     "name": "stderr",
     "output_type": "stream",
     "text": [
      "C:\\Users\\HP\\AppData\\Local\\Temp/ipykernel_9136/2582466552.py:1: FutureWarning: The frame.append method is deprecated and will be removed from pandas in a future version. Use pandas.concat instead.\n",
      "  temp=languages.append(languages)\n"
     ]
    },
    {
     "data": {
      "text/plain": [
       "(6924, 4)"
      ]
     },
     "execution_count": 12,
     "metadata": {},
     "output_type": "execute_result"
    }
   ],
   "source": [
    "temp=languages.append(languages)\n",
    "temp.shape"
   ]
  },
  {
   "attachments": {},
   "cell_type": "markdown",
   "metadata": {},
   "source": [
    "To check the dublication we should use the # ```python\n",
    "drop_duplicate()\n",
    "```\n",
    "using the **inplace=True** for modify the DataFrame which is used with keep Arguement  working as keep=First,keep=last,Keep=False\n",
    "where first is drop duplicates with  the first occurence,last is duplicates except last occurence,False is drop all duplicates\n"
   ]
  },
  {
   "cell_type": "code",
   "execution_count": 13,
   "metadata": {},
   "outputs": [],
   "source": [
    "temp_language=languages.drop_duplicates(inplace=True)\n",
    "temp_language"
   ]
  },
  {
   "cell_type": "code",
   "execution_count": 14,
   "metadata": {},
   "outputs": [
    {
     "name": "stderr",
     "output_type": "stream",
     "text": [
      "C:\\Users\\HP\\AppData\\Local\\Temp/ipykernel_9136/2993246692.py:1: FutureWarning: The frame.append method is deprecated and will be removed from pandas in a future version. Use pandas.concat instead.\n",
      "  temp_lang=languages.append(languages)\n"
     ]
    },
    {
     "data": {
      "text/plain": [
       "(0, 4)"
      ]
     },
     "execution_count": 14,
     "metadata": {},
     "output_type": "execute_result"
    }
   ],
   "source": [
    "temp_lang=languages.append(languages)\n",
    "temp_lang.drop_duplicates(inplace=True,keep=False)\n",
    "temp_lang.shape"
   ]
  },
  {
   "attachments": {},
   "cell_type": "markdown",
   "metadata": {},
   "source": [
    "# column cleaning \n",
    "column cleaning is work with the renaming process in which we can use to rename the column by using the .rename() in which we can get the renaming process using dictionary ."
   ]
  },
  {
   "cell_type": "code",
   "execution_count": 18,
   "metadata": {},
   "outputs": [
    {
     "data": {
      "text/plain": [
       "Index(['name', 'year', 'quarter', 'count'], dtype='object')"
      ]
     },
     "execution_count": 18,
     "metadata": {},
     "output_type": "execute_result"
    }
   ],
   "source": [
    "import pandas \n",
    "dff=pandas.read_csv(\"csv/languages.csv\")\n",
    "dff.columns"
   ]
  },
  {
   "cell_type": "code",
   "execution_count": 24,
   "metadata": {},
   "outputs": [
    {
     "data": {
      "text/plain": [
       "Index(['name', 'YEAR', 'QUARTER', 'count'], dtype='object')"
      ]
     },
     "execution_count": 24,
     "metadata": {},
     "output_type": "execute_result"
    }
   ],
   "source": [
    "dff.rename(columns={\n",
    "    'year':'YEAR',\n",
    "    \"quarter\":\"QUARTER\"\n",
    "},inplace=True)\n",
    "dff.columns"
   ]
  },
  {
   "cell_type": "code",
   "execution_count": 25,
   "metadata": {},
   "outputs": [
    {
     "data": {
      "text/plain": [
       "Index(['name', 'year', 'quarter', 'count'], dtype='object')"
      ]
     },
     "execution_count": 25,
     "metadata": {},
     "output_type": "execute_result"
    }
   ],
   "source": [
    "dff.columns=[col.lower() for col in dff]\n",
    "dff.columns"
   ]
  },
  {
   "attachments": {},
   "cell_type": "markdown",
   "metadata": {},
   "source": [
    "# Deal with the missing values\n",
    "while working with the data sometimes we have the problem dealing with empty data or null data .Most commonly you w'll se with **python nonetype** and **numpy np.nan** \n",
    "There are two options in dealing with nulls\n",
    "a) Get rid of rows or columns with nulls\n",
    "b) Replace nulls with non-null values, a technique known as imputation\n",
    "first we have to know which cell is null in our dataset\n"
   ]
  },
  {
   "cell_type": "code",
   "execution_count": 4,
   "metadata": {},
   "outputs": [
    {
     "data": {
      "text/plain": [
       "name       0\n",
       "year       0\n",
       "quarter    0\n",
       "count      0\n",
       "dtype: int64"
      ]
     },
     "execution_count": 4,
     "metadata": {},
     "output_type": "execute_result"
    }
   ],
   "source": [
    "import pandas as pn\n",
    "data=pn.read_csv(\"csv/languages.csv\")\n",
    "data.isnull().sum()"
   ]
  },
  {
   "cell_type": "code",
   "execution_count": 41,
   "metadata": {},
   "outputs": [
    {
     "data": {
      "text/plain": [
       "name       0\n",
       "year       0\n",
       "quarter    0\n",
       "count      0\n",
       "dtype: int64"
      ]
     },
     "execution_count": 41,
     "metadata": {},
     "output_type": "execute_result"
    }
   ],
   "source": [
    "import pandas as pd\n",
    "dd=pd.read_csv(\"csv/issues.csv\")\n",
    "revenge=dd['year']\n",
    "r_m=revenge.mean()\n",
    "tt=revenge.fillna(r_m,inplace=True)\n",
    "dd.isnull().sum()\n",
    "#revenge.median()\n",
    "#dd['name'].value_counts().head(10)"
   ]
  },
  {
   "cell_type": "code",
   "execution_count": 46,
   "metadata": {},
   "outputs": [
    {
     "data": {
      "text/plain": [
       "count           3375\n",
       "unique           178\n",
       "top       JavaScript\n",
       "freq              43\n",
       "Name: name, dtype: object"
      ]
     },
     "execution_count": 46,
     "metadata": {},
     "output_type": "execute_result"
    }
   ],
   "source": [
    "dd['name'].describe()\n"
   ]
  },
  {
   "cell_type": "code",
   "execution_count": 47,
   "metadata": {},
   "outputs": [
    {
     "data": {
      "text/plain": [
       "JavaScript    43\n",
       "Python        43\n",
       "PHP           43\n",
       "Java          43\n",
       "C++           43\n",
       "C             43\n",
       "C#            43\n",
       "Ruby          42\n",
       "TypeScript    41\n",
       "Erlang        41\n",
       "Name: name, dtype: int64"
      ]
     },
     "execution_count": 47,
     "metadata": {},
     "output_type": "execute_result"
    }
   ],
   "source": [
    "dd['name'].value_counts().head(10)"
   ]
  }
 ],
 "metadata": {
  "kernelspec": {
   "display_name": "Python 3 (ipykernel)",
   "language": "python",
   "name": "python3"
  },
  "language_info": {
   "codemirror_mode": {
    "name": "ipython",
    "version": 3
   },
   "file_extension": ".py",
   "mimetype": "text/x-python",
   "name": "python",
   "nbconvert_exporter": "python",
   "pygments_lexer": "ipython3",
   "version": "3.10.0"
  },
  "orig_nbformat": 4,
  "vscode": {
   "interpreter": {
    "hash": "a9cff5a362bc38ef45d817ae74b1af54d6a076e3d773891282bce078b815ba34"
   }
  }
 },
 "nbformat": 4,
 "nbformat_minor": 2
}
