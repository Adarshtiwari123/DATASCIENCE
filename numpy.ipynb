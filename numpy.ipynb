{
 "cells": [
  {
   "attachments": {},
   "cell_type": "markdown",
   "metadata": {},
   "source": [
    "# NUMPY FOR DATASCIENCE"
   ]
  },
  {
   "attachments": {},
   "cell_type": "markdown",
   "metadata": {},
   "source": [
    "**NumPy arrays** are faster and more compact than Python lists. An array consumes less memory and is convenient to use. NumPy uses much less memory to store data and it provides a mechanism of specifying the data types. This allows the code to be optimized even further."
   ]
  },
  {
   "cell_type": "code",
   "execution_count": 1,
   "metadata": {
    "vscode": {
     "languageId": "python"
    }
   },
   "outputs": [
    {
     "name": "stdout",
     "output_type": "stream",
     "text": [
      "[1 2 3]\n"
     ]
    }
   ],
   "source": [
    "import numpy as np\n",
    "x=np.array([1,2,3])\n",
    "print(x)"
   ]
  },
  {
   "attachments": {},
   "cell_type": "markdown",
   "metadata": {},
   "source": [
    "Numpy also access the zeros matrix as well as the ones matrix in order to get we have the for zero [np.zeros(no od zeros )] and for the ones we can write [np.ones(no_of_1 want)]"
   ]
  },
  {
   "cell_type": "code",
   "execution_count": 2,
   "metadata": {
    "vscode": {
     "languageId": "python"
    }
   },
   "outputs": [
    {
     "name": "stdout",
     "output_type": "stream",
     "text": [
      "[0. 0.]\n",
      "[1. 1. 1.]\n"
     ]
    }
   ],
   "source": [
    "import numpy as np\n",
    "x=np.zeros(2)\n",
    "print(x)\n",
    "y=np.ones(3)\n",
    "print(y)"
   ]
  },
  {
   "attachments": {},
   "cell_type": "markdown",
   "metadata": {},
   "source": [
    "**Empty array** :This function creates the array whose initial state is random which is based on the state of memory .The reason is to use it for the speed just after the element stores in it."
   ]
  },
  {
   "cell_type": "code",
   "execution_count": 3,
   "metadata": {
    "vscode": {
     "languageId": "python"
    }
   },
   "outputs": [
    {
     "name": "stdout",
     "output_type": "stream",
     "text": [
      "[0. 0. 0.]\n",
      "[0. 0.]\n"
     ]
    }
   ],
   "source": [
    "import numpy as np\n",
    "emp=np.zeros(3)\n",
    "ep=np.empty(2)\n",
    "print(emp)\n",
    "print(ep)"
   ]
  },
  {
   "attachments": {},
   "cell_type": "markdown",
   "metadata": {},
   "source": [
    "**np.arange()**  : -It is a function which is used as a range function and print the all value between the name in an numpy array\n",
    "np.arange(start,end,step) :It provided the good feature to store values inside the array ."
   ]
  },
  {
   "cell_type": "code",
   "execution_count": 4,
   "metadata": {
    "vscode": {
     "languageId": "python"
    }
   },
   "outputs": [
    {
     "name": "stdout",
     "output_type": "stream",
     "text": [
      "[0 1 2 3 4 5 6]\n",
      "[ 0  2  4  6  8 10 12 14 16 18 20]\n"
     ]
    }
   ],
   "source": [
    "import numpy as np\n",
    "x=np.arange(7)\n",
    "print(x)\n",
    "y=np.arange(0,22,2)\n",
    "print(y)"
   ]
  },
  {
   "attachments": {},
   "cell_type": "markdown",
   "metadata": {},
   "source": [
    "**linepsace()** :  It is used to the space inside our array."
   ]
  },
  {
   "cell_type": "code",
   "execution_count": 5,
   "metadata": {
    "vscode": {
     "languageId": "python"
    }
   },
   "outputs": [
    {
     "name": "stdout",
     "output_type": "stream",
     "text": [
      "[ 0.          1.11111111  2.22222222  3.33333333  4.44444444  5.55555556\n",
      "  6.66666667  7.77777778  8.88888889 10.        ]\n"
     ]
    }
   ],
   "source": [
    "import numpy as np\n",
    "x=np.linspace(0,10,num=10)\n",
    "print(x\n",
    ")"
   ]
  },
  {
   "attachments": {},
   "cell_type": "markdown",
   "metadata": {},
   "source": [
    "**np.ones()**: It  print the 0 according to the need and given the dtype as INT64 as basis of the data to removing the floating point."
   ]
  },
  {
   "cell_type": "code",
   "execution_count": 6,
   "metadata": {
    "vscode": {
     "languageId": "python"
    }
   },
   "outputs": [
    {
     "name": "stdout",
     "output_type": "stream",
     "text": [
      "[1. 1. 1. 1. 1.]\n",
      "[1 1]\n"
     ]
    }
   ],
   "source": [
    "import numpy as np\n",
    "z=np.ones(5,dtype=np.float64)\n",
    "print(z)\n",
    "c=np.ones(2,dtype=np.int64)\n",
    "print(c)\n"
   ]
  },
  {
   "attachments": {},
   "cell_type": "markdown",
   "metadata": {},
   "source": [
    "Adding,removing and sorting elements :\n",
    "This is brings the sorting technique to found the element of the array .\n",
    "**np.sort()** : Sort the element of the array\n",
    "**np.concatenate()** : Adding the two numpy array \n"
   ]
  },
  {
   "cell_type": "code",
   "execution_count": 7,
   "metadata": {
    "vscode": {
     "languageId": "python"
    }
   },
   "outputs": [
    {
     "name": "stdout",
     "output_type": "stream",
     "text": [
      "[1 2 3 4 8 6 5]\n",
      "sorting array [1 2 3 4 5 6 8]\n"
     ]
    }
   ],
   "source": [
    "#sorting example\n",
    "import numpy as np\n",
    "ar=np.array([1,2,3,4,8,6,5])\n",
    "print(ar)\n",
    "ar=np.sort(ar)\n",
    "print(\"sorting array\",ar)"
   ]
  },
  {
   "cell_type": "code",
   "execution_count": 8,
   "metadata": {
    "vscode": {
     "languageId": "python"
    }
   },
   "outputs": [
    {
     "name": "stdout",
     "output_type": "stream",
     "text": [
      "after concatenation :  [1 3 5 6 7 3 4 6 7 8 9 0]\n",
      "after sorting  :  [0 1 3 3 4 5 6 6 7 7 8 9]\n"
     ]
    }
   ],
   "source": [
    "#concatenate example\n",
    "import numpy as np\n",
    "a=np.array([1,3,5,6,7])\n",
    "b=np.array([3,4,6,7,8,9,0])\n",
    "newar=np.concatenate((a,b))\n",
    "print(\"after concatenation : \",newar)\n",
    "print(\"after sorting  : \",np.sort(newar))"
   ]
  },
  {
   "attachments": {},
   "cell_type": "markdown",
   "metadata": {},
   "source": [
    "Concatenation with new axis  in order to remove elements from an array, it’s simple to use indexing to select the elements that you want to keep.\n",
    "example below  \n"
   ]
  },
  {
   "cell_type": "code",
   "execution_count": 9,
   "metadata": {
    "vscode": {
     "languageId": "python"
    }
   },
   "outputs": [
    {
     "name": "stdout",
     "output_type": "stream",
     "text": [
      "with down wise [ 1  2  3  4  5  6  7  8  9 10]\n"
     ]
    }
   ],
   "source": [
    "import numpy as np\n",
    "x=np.array([1,2,3,4,5])\n",
    "y=np.array([6,7,8,9,10])\n",
    "arr=np.concatenate((x,y),axis=0)\n",
    "print(\"with down wise\",arr)\n"
   ]
  },
  {
   "attachments": {},
   "cell_type": "markdown",
   "metadata": {},
   "source": [
    "How to know the shape and size of the array:\n",
    "function : ndarray.ndim --will tell you the number of axes, or dimensions, of the array.\n",
    "        ndarray.size --will tell you the total number of elements of the array. This is the product of the elements of the array’s    shape.\n",
    "        ndarray.shape -- will display a tuple of integers that indicate the number of elements stored along each dimension of the array. \n",
    "If, for example, you have a 2-D array with 2 rows and 3 columns, the shape of your array is (2, 3).\n",
    "lets check the example of each"
   ]
  },
  {
   "cell_type": "code",
   "execution_count": 10,
   "metadata": {
    "vscode": {
     "languageId": "python"
    }
   },
   "outputs": [
    {
     "name": "stdout",
     "output_type": "stream",
     "text": [
      "the array no of dimension 3\n",
      "the array size :  24\n",
      "the shape of the array :  (3, 2, 4)\n"
     ]
    }
   ],
   "source": [
    "import numpy as np\n",
    "array=np.array([\n",
    "[[1,2,3,4],\n",
    "[5,6,7,8]],\n",
    "[[8,6,4,3],\n",
    "[4,5,6,7]],\n",
    "[[2,3,4,5],\n",
    "[6,7,8,9]],\n",
    "])\n",
    "\n",
    "print(\"the array no of dimension\",array.ndim)\n",
    "print(\"the array size : \",array.size)\n",
    "print(\"the shape of the array : \",array.shape)\n",
    "\n",
    "\n"
   ]
  },
  {
   "attachments": {},
   "cell_type": "markdown",
   "metadata": {},
   "source": [
    "Reshape of an array :\n",
    "using arr.reshape() will give a new shape to a array without changing the data .  "
   ]
  },
  {
   "cell_type": "code",
   "execution_count": 11,
   "metadata": {
    "vscode": {
     "languageId": "python"
    }
   },
   "outputs": [
    {
     "name": "stdout",
     "output_type": "stream",
     "text": [
      "[0 1 2 3 4 5]\n",
      "[[0 1]\n",
      " [2 3]\n",
      " [4 5]]\n"
     ]
    }
   ],
   "source": [
    "import numpy as np\n",
    "a=np.arange(6)\n",
    "print(a)\n",
    "b=a.reshape(3,2)\n",
    "print(b)"
   ]
  },
  {
   "cell_type": "code",
   "execution_count": 12,
   "metadata": {
    "vscode": {
     "languageId": "python"
    }
   },
   "outputs": [
    {
     "name": "stdout",
     "output_type": "stream",
     "text": [
      "the arange data is :  [ 2  4  6  8 10 12 14 16 18 20]\n",
      "for reshaping it as : \n",
      "[[ 2  4]\n",
      " [ 6  8]\n",
      " [10 12]\n",
      " [14 16]\n",
      " [18 20]]\n"
     ]
    }
   ],
   "source": [
    "import numpy as n\n",
    "m=n.arange(2,22,2)\n",
    "print(\"the arange data is : \",m)\n",
    "print(\"for reshaping it as : \")\n",
    "nn=m.reshape(5,2)\n",
    "print(nn)"
   ]
  },
  {
   "attachments": {},
   "cell_type": "markdown",
   "metadata": {},
   "source": [
    "INDEXING AND SLICING :\n",
    "we can easily do the indexing and slicing like as we can do in python list \n"
   ]
  },
  {
   "cell_type": "code",
   "execution_count": 13,
   "metadata": {
    "vscode": {
     "languageId": "python"
    }
   },
   "outputs": [
    {
     "name": "stdout",
     "output_type": "stream",
     "text": [
      "slicing have been starting from there :\n",
      "shaping is :  [[1 2 3 4 5 6 7 8]]\n",
      "1\n",
      "6\n",
      "7\n",
      "slicing is from there : \n",
      "[1 2 3 4 5 6 7 8]\n",
      "[1 2 3 4 5 6 7 8]\n",
      "[8]\n",
      "[1 2 3 4 5 6 7]\n"
     ]
    }
   ],
   "source": [
    "import numpy as np\n",
    "ar=np.array([1,2,3,4,5,6,7,8])\n",
    "print(\"slicing have been starting from there :\")\n",
    "b=ar.reshape(1,8)\n",
    "print(\"shaping is : \",b)\n",
    "print(ar[0])\n",
    "print(ar[5])\n",
    "print(ar[6])\n",
    "print(\"slicing is from there : \")\n",
    "print(ar[:9])\n",
    "print(ar[::])\n",
    "print(ar[-1:])\n",
    "print(ar[:-1])\n"
   ]
  },
  {
   "attachments": {},
   "cell_type": "markdown",
   "metadata": {},
   "source": [
    "WE can do the same thing with 2D array\n",
    "let check the example"
   ]
  },
  {
   "cell_type": "code",
   "execution_count": 14,
   "metadata": {
    "vscode": {
     "languageId": "python"
    }
   },
   "outputs": [
    {
     "name": "stdout",
     "output_type": "stream",
     "text": [
      "[[1 2 3 4]\n",
      " [4 5 6 7]\n",
      " [7 6 5 5]\n",
      " [4 7 5 3]]\n",
      "indexing is from there : \n",
      "[1 2 3 4]\n",
      "[4 5 6 7]\n",
      "[7 6 5 5]\n",
      "[4 7 5 3]\n",
      "slicing starts from there\n",
      "[[4 5 6 7]\n",
      " [7 6 5 5]\n",
      " [4 7 5 3]]\n",
      "[[1 2 3 4]\n",
      " [4 5 6 7]\n",
      " [7 6 5 5]]\n",
      "slicing of arry[0:4:1] [[4 5 6 7]\n",
      " [4 7 5 3]]\n",
      "slicing of arr[::-1] [[4 7 5 3]\n",
      " [7 6 5 5]\n",
      " [4 5 6 7]\n",
      " [1 2 3 4]]\n"
     ]
    }
   ],
   "source": [
    "import numpy as m\n",
    "arry=m.array([[1,2,3,4],\n",
    "[4,5,6,7],\n",
    "[7,6,5,5],\n",
    "[4,7,5,3]])\n",
    "print(arry)\n",
    "print(\"indexing is from there : \")\n",
    "print(arry[0])\n",
    "print(arry[1])\n",
    "print(arry[2])\n",
    "print(arry[3])\n",
    "print(\"slicing starts from there\")\n",
    "print(arry[1:])\n",
    "print(arry[:-1])\n",
    "print(\"slicing of arry[0:4:1]\",arry[1:4:2])\n",
    "print(\"slicing of arr[::-1]\",arry[::-1])"
   ]
  },
  {
   "attachments": {},
   "cell_type": "markdown",
   "metadata": {},
   "source": [
    "Some conditions will be given to that array then find result"
   ]
  },
  {
   "cell_type": "code",
   "execution_count": 15,
   "metadata": {
    "vscode": {
     "languageId": "python"
    }
   },
   "outputs": [
    {
     "name": "stdout",
     "output_type": "stream",
     "text": [
      "the array is :  [[1 2 3 4]\n",
      " [9 8 7 6]\n",
      " [4 5 7 8]\n",
      " [7 8 9 9]]\n"
     ]
    }
   ],
   "source": [
    "import numpy as nn\n",
    "m=nn.array([\n",
    "    [1,2,3,4],\n",
    "    [9,8,7,6],\n",
    "    [4,5,7,8],\n",
    "    [7,8,9,9]\n",
    "])\n",
    "print(\"the array is : \",m)"
   ]
  },
  {
   "cell_type": "code",
   "execution_count": 16,
   "metadata": {
    "vscode": {
     "languageId": "python"
    }
   },
   "outputs": [
    {
     "name": "stdout",
     "output_type": "stream",
     "text": [
      "[6 7]\n",
      "[]\n",
      "[False  True  True  True  True  True  True]\n",
      "[False False False False False False False]\n",
      "[2 3 4 5 6 7]\n"
     ]
    }
   ],
   "source": [
    "import numpy as np\n",
    "d=np.array([1,2,3,4,5,6,7])\n",
    "print(d[d>5])\n",
    "print(d[d<0])\n",
    "print(d>1)\n",
    "print(d<0)\n",
    "print(d[d>1])\n"
   ]
  },
  {
   "cell_type": "code",
   "execution_count": 17,
   "metadata": {
    "vscode": {
     "languageId": "python"
    }
   },
   "outputs": [
    {
     "name": "stdout",
     "output_type": "stream",
     "text": [
      "[6 7]\n",
      "[2 4 6]\n",
      "[1 2 3 4 5]\n"
     ]
    }
   ],
   "source": [
    "five=d[d>5]\n",
    "print(five)\n",
    "divisible=d[d%2==0]\n",
    "print(divisible)\n",
    "c=d[(d>=1) & (d<=5)]\n",
    "print(c)"
   ]
  },
  {
   "attachments": {},
   "cell_type": "markdown",
   "metadata": {},
   "source": [
    "more practices for the 2D array"
   ]
  },
  {
   "cell_type": "code",
   "execution_count": 18,
   "metadata": {
    "vscode": {
     "languageId": "python"
    }
   },
   "outputs": [
    {
     "name": "stdout",
     "output_type": "stream",
     "text": [
      "[[ 1  2  3  4]\n",
      " [ 5  6  7  8]\n",
      " [11 12 13 14]]\n",
      "[[ 1  2  3  4  5  6  7  8 11 12 13 14]]\n",
      "nonzero element in the array:  (array([0, 0, 0, 0], dtype=int64), array([0, 1, 2, 3], dtype=int64))\n"
     ]
    }
   ],
   "source": [
    "import numpy as np\n",
    "s=np.array([[1,2,3,4],[5,6,7,8],[11,12,13,14]])\n",
    "m=s.reshape(1,12)\n",
    "print(s)\n",
    "print(m)\n",
    "nonzero=np.nonzero(s<5)\n",
    "print(\"nonzero element in the array: \",nonzero)"
   ]
  },
  {
   "cell_type": "code",
   "execution_count": 19,
   "metadata": {
    "vscode": {
     "languageId": "python"
    }
   },
   "outputs": [
    {
     "name": "stdout",
     "output_type": "stream",
     "text": [
      "(array([0, 0, 0, 1], dtype=int64), array([0, 1, 2, 0], dtype=int64))\n"
     ]
    }
   ],
   "source": [
    "import numpy as nx\n",
    "b=nx.array([\n",
    "[1,2,3],[4,5,6],[7,8,9],\n",
    "])\n",
    "k=nx.nonzero(b<5)\n",
    "print(k)\n"
   ]
  },
  {
   "attachments": {},
   "cell_type": "markdown",
   "metadata": {},
   "source": [
    "Here we can created the list of coordinates for that array\n"
   ]
  },
  {
   "cell_type": "code",
   "execution_count": 20,
   "metadata": {
    "vscode": {
     "languageId": "python"
    }
   },
   "outputs": [
    {
     "name": "stdout",
     "output_type": "stream",
     "text": [
      "the array are :  (array([0, 0, 0, 0], dtype=int64), array([0, 1, 2, 3], dtype=int64))\n",
      "[1 2 3 4]\n",
      "(0, 0)\n",
      "(0, 1)\n",
      "(0, 2)\n",
      "(0, 3)\n"
     ]
    }
   ],
   "source": [
    "import numpy as nn\n",
    "aa=nn.array([\n",
    "[1,2,3,4],[5,6,7,8],[9,10,11,12]\n",
    "])\n",
    "bb=nn.nonzero(aa<5)\n",
    "print(\"the array are : \",bb)\n",
    "print(aa[bb])\n",
    "coordinate=list(zip(bb[0],bb[1]))\n",
    "for c in coordinate:\n",
    "    print(c)\n"
   ]
  },
  {
   "attachments": {},
   "cell_type": "markdown",
   "metadata": {},
   "source": [
    "How do we crate the array from the existing data\n",
    "we can created it with the slicing and indexing"
   ]
  },
  {
   "cell_type": "code",
   "execution_count": 21,
   "metadata": {
    "vscode": {
     "languageId": "python"
    }
   },
   "outputs": [
    {
     "name": "stdout",
     "output_type": "stream",
     "text": [
      "[3 4]\n",
      "[4 5 6 7 8]\n"
     ]
    }
   ],
   "source": [
    "import numpy as nk\n",
    "b=nk.array([1,2,3,4,5,6,7,8,9])\n",
    "print(b[2:4])\n",
    "print(b[3:8])"
   ]
  },
  {
   "cell_type": "code",
   "execution_count": 22,
   "metadata": {
    "vscode": {
     "languageId": "python"
    }
   },
   "outputs": [
    {
     "name": "stdout",
     "output_type": "stream",
     "text": [
      "[4 5 6 7 8]\n"
     ]
    }
   ],
   "source": [
    "import numpy as n\n",
    "a=n.array([1,2,3,4,5,6,7,8,9,0])\n",
    "ar=a[3:8]\n",
    "print(ar)"
   ]
  },
  {
   "attachments": {},
   "cell_type": "markdown",
   "metadata": {},
   "source": [
    "You can create a new array from a section of your array any time by specifying where you want to slice your array\n",
    "You can stack them vertically with vstack Or stack them horizontally with hstack ."
   ]
  },
  {
   "cell_type": "code",
   "execution_count": 23,
   "metadata": {
    "vscode": {
     "languageId": "python"
    }
   },
   "outputs": [
    {
     "name": "stdout",
     "output_type": "stream",
     "text": [
      "vertically stack :  [[1 2]\n",
      " [3 4]\n",
      " [5 6]\n",
      " [7 8]]\n",
      "horizontal stack :  [[1 2 5 6]\n",
      " [3 4 7 8]]\n"
     ]
    }
   ],
   "source": [
    "import numpy as np\n",
    "a1=np.array([\n",
    "    [1,2],[3,4]\n",
    "])\n",
    "a2=np.array([\n",
    "    [5,6],[7,8]\n",
    "])\n",
    "m=np.vstack((a1,a2))\n",
    "print(\"vertically stack : \",m)\n",
    "y=np.hstack((a1,a2))\n",
    "print(\"horizontal stack : \",y)"
   ]
  },
  {
   "attachments": {},
   "cell_type": "markdown",
   "metadata": {},
   "source": [
    "You can split an array into several smaller arrays using hsplit. You can specify either the number of equally shaped arrays to return or the columns after which the division should occur"
   ]
  },
  {
   "cell_type": "code",
   "execution_count": 24,
   "metadata": {
    "vscode": {
     "languageId": "python"
    }
   },
   "outputs": [
    {
     "name": "stdout",
     "output_type": "stream",
     "text": [
      "[[ 1  2  3  4  5  6  7  8  9 10 11 12]\n",
      " [13 14 15 16 17 18 19 20 21 22 23 24]]\n",
      "[array([[ 1,  2,  3,  4],\n",
      "       [13, 14, 15, 16]]), array([[ 5,  6,  7,  8],\n",
      "       [17, 18, 19, 20]]), array([[ 9, 10, 11, 12],\n",
      "       [21, 22, 23, 24]])]\n"
     ]
    }
   ],
   "source": [
    "import numpy as np\n",
    "xx=np.arange(1,25).reshape(2,12)\n",
    "print(xx)\n",
    "yy=np.hsplit(xx,3)\n",
    "print(yy)"
   ]
  },
  {
   "attachments": {},
   "cell_type": "markdown",
   "metadata": {},
   "source": [
    "Using the copy method will make a complete copy of the array and its data (a deep copy). To use this on your array, you could run:"
   ]
  },
  {
   "cell_type": "code",
   "execution_count": 25,
   "metadata": {
    "vscode": {
     "languageId": "python"
    }
   },
   "outputs": [
    {
     "name": "stdout",
     "output_type": "stream",
     "text": [
      "[1 2 3 4]\n",
      "[1 2 3 4]\n",
      "[[ 1 22  3  4]\n",
      " [ 5  6  7  8]\n",
      " [ 9 10 11 12]]\n",
      "[[ 1 22  3  4]\n",
      " [ 5 15  7  8]\n",
      " [ 9 10 11 12]]\n"
     ]
    }
   ],
   "source": [
    "import numpy as m\n",
    "m=np.array([[1,2,3,4],[5,6,7,8],[9,10,11,12]])\n",
    "m1=m[0,:]\n",
    "print(m1)\n",
    "m2=m[0]\n",
    "print(m2)\n",
    "m3=m[1,3]\n",
    "m[0,1]=22\n",
    "print(m)\n",
    "m[1,1]=15\n",
    "print(m)"
   ]
  },
  {
   "attachments": {},
   "cell_type": "markdown",
   "metadata": {},
   "source": [
    "Basic array operations\n",
    "This section covers addition, subtraction, multiplication, division, and more .\n",
    "Once you’ve created your arrays, you can start to work with them"
   ]
  },
  {
   "cell_type": "code",
   "execution_count": 26,
   "metadata": {
    "vscode": {
     "languageId": "python"
    }
   },
   "outputs": [
    {
     "name": "stdout",
     "output_type": "stream",
     "text": [
      "Addition of a[1 2] and b[1 1] is  [2 3]\n",
      "subtraction of [3 2] and [1 1] is :  [2 1]\n",
      "the multiplication of [3 2] and [1 1] is :  [3 2]\n",
      "the division is [3 4] and [1 1] is [3. 4.]\n"
     ]
    }
   ],
   "source": [
    "#Start with addition\n",
    "import numpy as nn\n",
    "a=nn.array([1,2])\n",
    "b=nn.ones(2,dtype=int)\n",
    "print(\"Addition of a{} and b{} is \".format(a,b),a+b)\n",
    "#subtraction here\n",
    "c=nn.array([3,2])\n",
    "d=nn.ones(2,dtype=int)\n",
    "print(\"subtraction of {} and {} is : \".format(c,d),c-d)\n",
    "#multiplication is here\n",
    "e=nn.array([3,2])\n",
    "f=nn.ones(2,dtype=int)\n",
    "print(\"the multiplication of {} and {} is : \".format(e,f),e*f)\n",
    "#division is here\n",
    "m=nn.array([3,4])\n",
    "n=nn.ones(2,dtype=int)\n",
    "print(\"the division is {} and {} is\".format(m,n),m/n)\n",
    "\n"
   ]
  },
  {
   "attachments": {},
   "cell_type": "markdown",
   "metadata": {},
   "source": [
    "Do some more practise \n"
   ]
  },
  {
   "cell_type": "code",
   "execution_count": 27,
   "metadata": {
    "vscode": {
     "languageId": "python"
    }
   },
   "outputs": [
    {
     "name": "stdout",
     "output_type": "stream",
     "text": [
      "the addition is [3 2] and [3 2]  [6 4]\n",
      "The subtraction is [3 2] and  [3 2]  [0 0]\n",
      "The multiplication is [3 2] and  [3 2]  [9 4]\n",
      "The division  is [3 2] and  [3 2]  [1. 1.]\n"
     ]
    }
   ],
   "source": [
    "import numpy as num\n",
    "a=num.array([3,2])\n",
    "b=num.array([3,2])\n",
    "print(\"the addition is {} and {} \".format(a,b),a+b)\n",
    "print(\"The subtraction is {} and  {} \".format(a,b),a-b)\n",
    "print(\"The multiplication is {} and  {} \".format(a,b),a*b)\n",
    "print(\"The division  is {} and  {} \".format(a,b),a/b)"
   ]
  },
  {
   "attachments": {},
   "cell_type": "markdown",
   "metadata": {},
   "source": [
    "Sum function is used to calculate the sum of all element of an array .\n"
   ]
  },
  {
   "cell_type": "code",
   "execution_count": 28,
   "metadata": {
    "vscode": {
     "languageId": "python"
    }
   },
   "outputs": [
    {
     "name": "stdout",
     "output_type": "stream",
     "text": [
      "the sum of all element is  :  55\n",
      "the sum is :  55\n"
     ]
    }
   ],
   "source": [
    "import numpy as n\n",
    "a=n.array([1,2,3,4,5,6,7,8,9,10])\n",
    "print(\"the sum of all element is  : \",a.sum())\n",
    "#***********************other method*********************\n",
    "s=0\n",
    "for i in a:\n",
    "    s=s+i\n",
    "print(\"the sum is : \",s)"
   ]
  },
  {
   "attachments": {},
   "cell_type": "markdown",
   "metadata": {},
   "source": [
    "If u want to add the row and column in an 2D array then you should apply this"
   ]
  },
  {
   "cell_type": "code",
   "execution_count": 29,
   "metadata": {
    "vscode": {
     "languageId": "python"
    }
   },
   "outputs": [
    {
     "name": "stdout",
     "output_type": "stream",
     "text": [
      "Sum of the maxtrix element at row wise:  [7 9]\n",
      "SUm of the matrix element at column wise :  [7 9]\n"
     ]
    }
   ],
   "source": [
    "import numpy as n\n",
    "a=n.array([[3,4],[4,5]])\n",
    "print(\"Sum of the maxtrix element at row wise: \",a.sum(axis=0))\n",
    "print(\"SUm of the matrix element at column wise : \",a.sum(axis=1))\n"
   ]
  },
  {
   "cell_type": "code",
   "execution_count": 30,
   "metadata": {
    "vscode": {
     "languageId": "python"
    }
   },
   "outputs": [
    {
     "name": "stdout",
     "output_type": "stream",
     "text": [
      "[2 4 6 8]\n"
     ]
    }
   ],
   "source": [
    "z=n.array([1,2,3,4])\n",
    "print(z*2)"
   ]
  },
  {
   "attachments": {},
   "cell_type": "markdown",
   "metadata": {},
   "source": [
    "For getting maximum and minimum element we use the min() and max() element.\n"
   ]
  },
  {
   "cell_type": "code",
   "execution_count": 31,
   "metadata": {
    "vscode": {
     "languageId": "python"
    }
   },
   "outputs": [
    {
     "name": "stdout",
     "output_type": "stream",
     "text": [
      "maximum value in array is 888\n",
      "minimum value in array is 1\n"
     ]
    }
   ],
   "source": [
    "import numpy as nn\n",
    "s=nn.array([1,2,3,4,888])\n",
    "print(\"maximum value in array is\",s.max())\n",
    "print(\"minimum value in array is\",s.min())"
   ]
  },
  {
   "attachments": {},
   "cell_type": "markdown",
   "metadata": {},
   "source": [
    "Lets start with the floating values : \n"
   ]
  },
  {
   "cell_type": "code",
   "execution_count": 32,
   "metadata": {
    "vscode": {
     "languageId": "python"
    }
   },
   "outputs": [
    {
     "name": "stdout",
     "output_type": "stream",
     "text": [
      "minimum is  0.222\n",
      "minimum with row wise:  [0.222 2.222 3.222]\n",
      "minimum with column wise:  [1.222 4.222 0.222]\n",
      "maximum is :  9.99\n",
      "maximum with row wise:  [4.222 8.555 9.99 ]\n",
      "maximum with column wise is : [3.222 9.888 9.99 ]\n",
      "the sum is  :  46.977\n"
     ]
    }
   ],
   "source": [
    "import numpy as np\n",
    "z=np.array([\n",
    "    [1.222  , 2.222, 3.222],\n",
    "    [4.222  ,8.555 ,9.888],\n",
    "    [0.222  ,7.434 ,9.990],\n",
    "])\n",
    "print(\"minimum is \",z.min())\n",
    "print(\"minimum with row wise: \",z.min(axis=0))\n",
    "print(\"minimum with column wise: \",z.min(axis=1))\n",
    "print(\"maximum is : \",z.max())\n",
    "print(\"maximum with row wise: \",z.max(axis=0))\n",
    "print(\"maximum with column wise is :\",z.max(axis=1))\n",
    "print(\"the sum is  : \",z.sum())"
   ]
  },
  {
   "attachments": {},
   "cell_type": "markdown",
   "metadata": {},
   "source": [
    "You can do these arithmetic operations on matrices of different sizes, but only if one matrix has only one column or one row. In this case, NumPy will use its broadcast rules for the operation."
   ]
  },
  {
   "cell_type": "code",
   "execution_count": 33,
   "metadata": {
    "vscode": {
     "languageId": "python"
    }
   },
   "outputs": [
    {
     "name": "stdout",
     "output_type": "stream",
     "text": [
      "Sum of the data:  [[2 3]\n",
      " [4 5]\n",
      " [6 7]]\n"
     ]
    }
   ],
   "source": [
    "import numpy as np\n",
    "data=np.array([[1,2],[3,4],[5,6]])\n",
    "one=np.array([[1,1]])\n",
    "d=data+one\n",
    "print(\"Sum of the data: \",d)"
   ]
  },
  {
   "cell_type": "code",
   "execution_count": 34,
   "metadata": {
    "vscode": {
     "languageId": "python"
    }
   },
   "outputs": [
    {
     "name": "stdout",
     "output_type": "stream",
     "text": [
      "[[[1. 1.]\n",
      "  [1. 1.]]\n",
      "\n",
      " [[1. 1.]\n",
      "  [1. 1.]]\n",
      "\n",
      " [[1. 1.]\n",
      "  [1. 1.]]\n",
      "\n",
      " [[1. 1.]\n",
      "  [1. 1.]]]\n"
     ]
    }
   ],
   "source": [
    "import numpy as np\n",
    "dd=np.ones((4,2,2))\n",
    "print(dd)\n"
   ]
  },
  {
   "attachments": {},
   "cell_type": "markdown",
   "metadata": {},
   "source": [
    " NumPy offers functions like ones() and zeros(), and the random.Generator class for random number generation for that. All you need to do is pass in the number of elements you want it to generate:\n",
    " for genrating the random number simplest way is: rng = np.random.default_rng() "
   ]
  },
  {
   "cell_type": "code",
   "execution_count": 35,
   "metadata": {
    "vscode": {
     "languageId": "python"
    }
   },
   "outputs": [
    {
     "name": "stdout",
     "output_type": "stream",
     "text": [
      "[1. 1. 1. 1.]\n",
      "zeros ae  :  [0. 0. 0. 0.]\n",
      "for random no : \n",
      "random is [0.30879235 0.7462771  0.15358467 0.66732087]\n",
      "rmg [0.60546438 0.64790488 0.79062749 0.85533081 0.71667803]\n"
     ]
    }
   ],
   "source": [
    "import numpy as np\n",
    "m=np.ones(4)\n",
    "print(m)\n",
    "z=np.zeros(4)\n",
    "print(\"zeros ae  : \",z)\n",
    "print(\"for random no : \")\n",
    "rng=np.random.default_rng()\n",
    "mm=rng.random(4)\n",
    "print(\"random is\",mm)\n",
    "rmg=np.random.random(5)\n",
    "print(\"rmg\",rmg)"
   ]
  },
  {
   "attachments": {},
   "cell_type": "markdown",
   "metadata": {},
   "source": [
    "Creation of 2D array with using ones ,zeros and random\n"
   ]
  },
  {
   "cell_type": "code",
   "execution_count": 36,
   "metadata": {
    "vscode": {
     "languageId": "python"
    }
   },
   "outputs": [
    {
     "name": "stdout",
     "output_type": "stream",
     "text": [
      "the 2d array is:\n",
      " [[1. 1.]\n",
      " [1. 1.]\n",
      " [1. 1.]]\n",
      "the zeros are : \n",
      " [[0. 0. 0. 0.]\n",
      " [0. 0. 0. 0.]\n",
      " [0. 0. 0. 0.]]\n",
      "random no is: \n",
      " [[0.59585245 0.67100788]\n",
      " [0.34150225 0.17224109]\n",
      " [0.05323051 0.38053308]]\n"
     ]
    }
   ],
   "source": [
    "import numpy as np\n",
    "a=np.ones((3,2))\n",
    "print(\"the 2d array is:\\n\" ,a)\n",
    "b=np.zeros((3,4))\n",
    "print(\"the zeros are : \\n\",b)\n",
    "rng=np.random.default_rng()\n",
    "r=rng.random((3,2))\n",
    "print(\"random no is: \\n\",r)"
   ]
  },
  {
   "attachments": {},
   "cell_type": "markdown",
   "metadata": {},
   "source": [
    "Generating random number or integer: while in the last program we have noticed that  random values of the array is . FLOAT value but if we want to know how to change many ones said that we can also do like dtype=int but it not probably work with the random lets do one example to check.\n",
    "low=0 for minimum value and high=maximum value."
   ]
  },
  {
   "cell_type": "code",
   "execution_count": 37,
   "metadata": {
    "vscode": {
     "languageId": "python"
    }
   },
   "outputs": [
    {
     "name": "stdout",
     "output_type": "stream",
     "text": [
      "c is random values is \n",
      " [[9 6 5 2 0 8]\n",
      " [1 9 9 5 5 1]]\n"
     ]
    }
   ],
   "source": [
    "import numpy as np\n",
    "rng=np.random.default_rng()\n",
    "c=rng.integers(low=0,high=10,size=(2,6)) #rng.integers(5,size=(2,4))\n",
    "print(\"c is random values is \\n\",c)"
   ]
  },
  {
   "attachments": {},
   "cell_type": "markdown",
   "metadata": {},
   "source": [
    "Unique value  and its count (same as list ,tuple,string)\n",
    "Unique values are the values which have only one existence and for searching multiple values in many values.\n",
    "for getting the index value  and occurence_counting we have been used as . \n"
   ]
  },
  {
   "cell_type": "code",
   "execution_count": 38,
   "metadata": {
    "vscode": {
     "languageId": "python"
    }
   },
   "outputs": [
    {
     "name": "stdout",
     "output_type": "stream",
     "text": [
      "the array is :  [ 1  2  3  4  5  6  7  8  1  2  3 55  6  7  8 90 10 22 31  1  4  5  2]\n",
      "unique values are :  [ 1  2  3  4  5  6  7  8 10 22 31 55 90]\n",
      "unique values are \n",
      " [ 1  2  3  4  5  6  7  8 10 22 31 55 90] \n",
      "unique values are index of\n",
      " [ 0  1  2  3  4  5  6  7 16 17 18 11 15]\n"
     ]
    }
   ],
   "source": [
    "import numpy as n\n",
    "a=n.array([1,2,3,4,5,6,7,8,1,2,3,55,6,7,8,90,10,22,31,1,4,5,2,])\n",
    "print(\"the array is : \",a)\n",
    "u=np.unique(a)\n",
    "print(\"unique values are : \",u)\n",
    "unique_value,indices_list=np.unique(a,return_index=True)\n",
    "print(\"unique values are \\n\",unique_value,\"\\nunique values are index of\\n\",indices_list)"
   ]
  },
  {
   "cell_type": "code",
   "execution_count": 39,
   "metadata": {
    "vscode": {
     "languageId": "python"
    }
   },
   "outputs": [
    {
     "name": "stdout",
     "output_type": "stream",
     "text": [
      "array is :  [ 1  2 11  3  4  5  6 33  4  6 43  1 21  2  2  1  3  5  2 45]\n",
      "unique value is :  [ 1  2  3  4  5  6 11 21 33 43 45]\n",
      "the indexes of the array is: \n",
      "unqie value is [ 1  2  3  4  5  6  7  8 10 22 31 55 90]\n",
      "index of the unique list is:  [ 0  1  3  4  5  6  2 12  7 10 19]\n",
      "repeated values are counted as : \n",
      "occurence of the unique values is  :  [3 4 2 2 2 2 1 1 1 1 1]\n"
     ]
    }
   ],
   "source": [
    "import numpy as np\n",
    "a=np.array([1,2,11,3,4,5,6,33,4,6,43,1,21,2,2,1,3,5,2,45])\n",
    "print(\"array is : \",a)\n",
    "unique=np.unique(a)\n",
    "print(\"unique value is : \",unique)\n",
    "print(\"the indexes of the array is: \")\n",
    "unique,indices_list=np.unique(a,return_index=True)\n",
    "print(\"unqie value is\",unique_value)\n",
    "print(\"index of the unique list is: \",indices_list)\n",
    "print(\"repeated values are counted as : \")\n",
    "unique_value,occurence_count=np.unique(a, return_counts=True)\n",
    "print(\"occurence of the unique values is  : \",occurence_count)"
   ]
  },
  {
   "attachments": {},
   "cell_type": "markdown",
   "metadata": {},
   "source": [
    "This would be also help with the 2D array as like the above example."
   ]
  },
  {
   "cell_type": "code",
   "execution_count": 40,
   "metadata": {
    "vscode": {
     "languageId": "python"
    }
   },
   "outputs": [
    {
     "name": "stdout",
     "output_type": "stream",
     "text": [
      "2 dimension array is: \n",
      " [[ 1  2  3  4]\n",
      " [ 5  6  7  8]\n",
      " [ 9 10 11 12]\n",
      " [ 1  2  3  4]\n",
      " [ 1  2  5  9]]\n",
      "find the unique values : \n",
      "unique value is :  [ 1  2  3  4  5  6  7  8  9 10 11 12]\n",
      "for getting the index we should used: \n",
      "indexices is:  [ 0  1  2  3  4  5  6  7  8  9 10 11]\n",
      "counts the repeated values: \n",
      "occurence_count \n",
      " [3 4 2 2 2 2 1 1 1 1 1]\n"
     ]
    }
   ],
   "source": [
    "import numpy as nn\n",
    "array_2=nn.array([[1,2,3,4],[5,6,7,8],[9,10,11,12],[1,2,3,4],[1,2,5,9]])\n",
    "print(\"2 dimension array is: \\n\",array_2)\n",
    "print(\"find the unique values : \")\n",
    "unique_value=nn.unique(array_2)\n",
    "print(\"unique value is : \",unique_value)\n",
    "print(\"for getting the index we should used: \")\n",
    "unique_value,indices_list=nn.unique(array_2,return_index=True)\n",
    "print(\"indexices is: \",indices_list)\n",
    "print(\"counts the repeated values: \")\n",
    "unique_value,occurence_count=nn.unique(a,return_counts=True)\n",
    "print(\"occurence_count \\n\",occurence_count)"
   ]
  },
  {
   "attachments": {},
   "cell_type": "markdown",
   "metadata": {},
   "source": [
    "For getting the unique row and unique_column we can use the axis for them "
   ]
  },
  {
   "cell_type": "code",
   "execution_count": 41,
   "metadata": {
    "vscode": {
     "languageId": "python"
    }
   },
   "outputs": [
    {
     "name": "stdout",
     "output_type": "stream",
     "text": [
      "array is\n",
      " [[ 1  2  3  4]\n",
      " [ 5  9  7  8]\n",
      " [ 9  1 11 12]\n",
      " [ 1  2  3  4]]\n",
      "for unique row: \n",
      "unique row is: \n",
      " [[ 1  2  3  4]\n",
      " [ 5  9  7  8]\n",
      " [ 9  1 11 12]]\n",
      "for unique column is: \n",
      "unique column \n",
      "unique column is:\n",
      "  [[ 1  2  3  4]\n",
      " [ 5  9  7  8]\n",
      " [ 9  1 11 12]\n",
      " [ 1  2  3  4]]\n"
     ]
    }
   ],
   "source": [
    "import numpy as n\n",
    "arr=n.array([[1,2,3,4],[5,9,7,8],[9,1,11,12],[1,2,3,4]])\n",
    "print(\"array is\\n\",arr)\n",
    "print(\"for unique row: \")\n",
    "unique_row=n.unique(arr,axis=0)\n",
    "print(\"unique row is: \\n\",unique_row)\n",
    "print(\"for unique column is: \")\n",
    "print(\"unique column \")\n",
    "unique_column=n.unique(arr,axis=1)\n",
    "print(\"unique column is:\\n \",unique_column)\n"
   ]
  },
  {
   "attachments": {},
   "cell_type": "markdown",
   "metadata": {},
   "source": [
    "# Transposing and reshaping a matrix\n",
    "This section is covers the arr.reshape(),arr.transpose(),arr.T\n",
    "It’s common to need to transpose your matrices. NumPy arrays have the property T that allows you to transpose a matrix.\n",
    "Transpose: refer to the change the dimension of the matrix as like 2D array is the dimension of (3*2) and after the transposing it becomes the (2*3) "
   ]
  },
  {
   "cell_type": "code",
   "execution_count": 42,
   "metadata": {
    "vscode": {
     "languageId": "python"
    }
   },
   "outputs": [
    {
     "name": "stdout",
     "output_type": "stream",
     "text": [
      "arrays is :\n",
      "  [[1 2 3 4]\n",
      " [6 7 8 9]\n",
      " [0 1 2 3]]\n",
      "before transposing the shape is :  (3, 4)\n",
      "after transposing is:\n",
      "  [[1 2 3]\n",
      " [4 6 7]\n",
      " [8 9 0]\n",
      " [1 2 3]]\n",
      "with the dimension of 3*3 [[1 2 3 4 6 7]\n",
      " [8 9 0 1 2 3]]\n"
     ]
    }
   ],
   "source": [
    "import numpy as nn\n",
    "n=nn.array([[1,2,3,4],[6,7,8,9],[0,1,2,3]])\n",
    "print(\"arrays is :\\n \",n)\n",
    "print(\"before transposing the shape is : \",n.shape)\n",
    "tr=n.reshape(4,3)\n",
    "print(\"after transposing is:\\n \",tr)\n",
    "tr1=n.reshape(2,6)\n",
    "print(\"with the dimension of 3*3\",tr1)"
   ]
  },
  {
   "cell_type": "code",
   "execution_count": 43,
   "metadata": {
    "vscode": {
     "languageId": "python"
    }
   },
   "outputs": [
    {
     "name": "stdout",
     "output_type": "stream",
     "text": [
      "array is:\n",
      "  [[1 2]\n",
      " [4 5]\n",
      " [3 4]]\n",
      "shape is:  (3, 2)\n",
      "transosing here :\n",
      "  [[1 4 3]\n",
      " [2 5 4]]\n",
      "after transpose we get the shape as :\n",
      "  (2, 3)\n"
     ]
    }
   ],
   "source": [
    "import numpy as np\n",
    "ar=np.array([[1,2],[4,5],[3,4]])\n",
    "print(\"array is:\\n \",ar)\n",
    "print(\"shape is: \",ar.shape)\n",
    "tr=ar.transpose()\n",
    "#we can also use the ar.T\n",
    "print(\"transosing here :\\n \",tr)\n",
    "print(\"after transpose we get the shape as :\\n \",tr.shape)"
   ]
  },
  {
   "attachments": {},
   "cell_type": "markdown",
   "metadata": {},
   "source": [
    "**How to reverse the numpy array **\n",
    "This cover the np.flip() is used to reverse the array . we can also use the reverse slicing in an numpy array"
   ]
  },
  {
   "cell_type": "code",
   "execution_count": 48,
   "metadata": {
    "vscode": {
     "languageId": "python"
    }
   },
   "outputs": [
    {
     "name": "stdout",
     "output_type": "stream",
     "text": [
      "Array is   [ 1  2  3  5  6  7  8 10]\n",
      "reverse array is:  [10  8  7  6  5  3  2  1]\n",
      "by using the flip function () [10  8  7  6  5  3  2  1]\n"
     ]
    }
   ],
   "source": [
    "import numpy as a\n",
    "arr=a.array([1,2,3,5,6,7,8,10])\n",
    "print(\"Array is  \",arr)\n",
    "print(\"reverse array is: \",arr[::-1])\n",
    "reverse_array=np.flip(arr)\n",
    "print(\"by using the flip function ()\",reverse_array)\n"
   ]
  },
  {
   "attachments": {},
   "cell_type": "markdown",
   "metadata": {},
   "source": [
    "# Work with the 2d Array\n",
    "do the same work with them also\n",
    "we can also used to reverse it with row wise(axis=0) and for column wise (axis=1)"
   ]
  },
  {
   "cell_type": "code",
   "execution_count": 54,
   "metadata": {
    "vscode": {
     "languageId": "python"
    }
   },
   "outputs": [
    {
     "name": "stdout",
     "output_type": "stream",
     "text": [
      "2D array is:\n",
      "  [[1 2 3]\n",
      " [4 5 6]\n",
      " [7 8 9]]\n",
      "reverse array is: \n",
      " [[9 8 7]\n",
      " [6 5 4]\n",
      " [3 2 1]]\n",
      "for row wise reverse: \n",
      " [[7 8 9]\n",
      " [4 5 6]\n",
      " [1 2 3]]\n",
      "for column wise: \n",
      " [[3 2 1]\n",
      " [6 5 4]\n",
      " [9 8 7]]\n"
     ]
    }
   ],
   "source": [
    "import numpy as nn\n",
    "arr2d=nn.array([[1,2,3],[4,5,6],[7,8,9]])\n",
    "print(\"2D array is:\\n \",arr2d)\n",
    "rever=nn.flip(arr2d)\n",
    "print(\"reverse array is: \\n\",rever)\n",
    "rever_row=nn.flip(arr2d,axis=0)\n",
    "print(\"for row wise reverse: \\n\",rever_row)\n",
    "rever_column=nn.flip(arr2d,axis=1)\n",
    "print(\"for column wise: \\n\",rever_column)"
   ]
  },
  {
   "cell_type": "code",
   "execution_count": 60,
   "metadata": {
    "vscode": {
     "languageId": "python"
    }
   },
   "outputs": [
    {
     "name": "stdout",
     "output_type": "stream",
     "text": [
      "Array 2d is: \n",
      " [[1 2 3]\n",
      " [4 5 6]\n",
      " [7 8 9]]\n",
      "With the 0 index value reverse:  [[3 2 1]\n",
      " [4 5 6]\n",
      " [7 8 9]]\n",
      "with the 1  index value reverse: \n",
      "  [[3 2 1]\n",
      " [6 5 4]\n",
      " [7 8 9]]\n",
      "with the 2 index  value reverse: \n",
      " [9 8 7]\n"
     ]
    }
   ],
   "source": [
    "import numpy as nnp\n",
    "arr2d=nnp.array([[1,2,3],[4,5,6],[7,8,9]])\n",
    "print(\"Array 2d is: \\n\",arr2d)\n",
    "arr2d[0]=nnp.flip(arr2d[0])\n",
    "print(\"With the 0 index value reverse: \",arr2d)\n",
    "arr2d[1]=nnp.flip(arr2d[1])\n",
    "print(\"with the 1  index value reverse: \\n \",arr2d)\n",
    "arr2d[2]=nnp.flip(arr2d[2])\n",
    "print(\"with the 2 index  value reverse: \\n\",arr2d[2])"
   ]
  },
  {
   "attachments": {},
   "cell_type": "markdown",
   "metadata": {},
   "source": [
    "You can also reverse the column at index position (the second column)\n"
   ]
  },
  {
   "cell_type": "code",
   "execution_count": 62,
   "metadata": {
    "vscode": {
     "languageId": "python"
    }
   },
   "outputs": [
    {
     "name": "stdout",
     "output_type": "stream",
     "text": [
      "Array 2d is: \n",
      " [[1 2 3]\n",
      " [4 5 6]\n",
      " [7 8 9]]\n",
      "With the 0 index  column value reverse:  [[1 8 3]\n",
      " [4 5 6]\n",
      " [7 2 9]]\n"
     ]
    }
   ],
   "source": [
    "import numpy as nnp\n",
    "arr2d=nnp.array([[1,2,3],[4,5,6],[7,8,9]])\n",
    "print(\"Array 2d is: \\n\",arr2d)\n",
    "arr2d[:,1]=nnp.flip(arr2d[:,1])\n",
    "print(\"With the 0 index  column value reverse: \",arr2d)"
   ]
  },
  {
   "attachments": {},
   "cell_type": "markdown",
   "metadata": {},
   "source": [
    "# We can understand the reshaping and flattening  multidimensional array. \n",
    "There are two popular ways to flatten an array: .flatten() and .ravel(). The primary difference between the two is that the new array created using ravel() is actually a reference to the parent array (i.e., a “view”). This means that any changes to the new array will affect the parent array as well. Since ravel does not create a copy, it’s memory efficient.\n",
    "flatten() affect the updated array not the parent array"
   ]
  },
  {
   "cell_type": "code",
   "execution_count": 72,
   "metadata": {
    "vscode": {
     "languageId": "python"
    }
   },
   "outputs": [
    {
     "name": "stdout",
     "output_type": "stream",
     "text": [
      "2d array is \n",
      " [[ 1  2  3  4]\n",
      " [ 5  6  7  8]\n",
      " [11 12 13 14]]\n",
      "we can done to change the 2d array into 1d array [ 1  2  3  4  5  6  7  8 11 12 13 14]\n",
      "our parent array is : \n",
      " [[ 1  2  3  4]\n",
      " [ 5  6  7  8]\n",
      " [11 12 13 14]]\n",
      "upldated array is\n",
      " [100   2   3   4   5   6   7   8  11  12  13  14]\n",
      "our parent array :\n",
      " [[99  2  3  4]\n",
      " [ 5  6  7  8]\n",
      " [11 12 13 14]]\n",
      "our updated array is: \n",
      " [99  2  3  4  5  6  7  8 11 12 13 14]\n"
     ]
    }
   ],
   "source": [
    "import numpy as yy\n",
    "x=yy.array([[1,2,3,4],[5,6,7,8],[11,12,13,14]])\n",
    "print(\"2d array is \\n\",x)\n",
    "print(\"we can done to change the 2d array into 1d array\",x.flatten())\n",
    "a1=x.flatten()\n",
    "a1[0]=100\n",
    "print(\"our parent array is : \\n\",x)\n",
    "print(\"upldated array is\\n\",a1)\n",
    "rav=x.ravel()\n",
    "rav[0]=99\n",
    "print(\"our parent array :\\n\",x)\n",
    "print(\"our updated array is: \\n\",rav)"
   ]
  },
  {
   "attachments": {},
   "cell_type": "markdown",
   "metadata": {},
   "source": [
    "# How to save and load NumPy objects\n",
    "This section covers np.save, np.savez, np.savetxt, np.load, np.loadtxt\n",
    "for saving we can use the **np.save(\"filename\",array)**\n",
    "for loading the file name with we can also used the **np.load(\"filename.npy\")**\n",
    "NumPy array as a plain text  file like **.csv or .txt** file use **np.savetxt()**\n",
    "The savetxt() and loadtxt() functions accept additional optional parameters such as header, footer, and delimiter. While text files can be easier for sharing, .npy and .npz files are smaller and faster to read. If you need more sophisticated handling of your text file (for example, if you need to work with lines that contain missing values), you will want to use the genfromtxt function.\n",
    "\n",
    "With savetxt, you can specify headers, footers, comments, and more."
   ]
  },
  {
   "cell_type": "code",
   "execution_count": 3,
   "metadata": {
    "vscode": {
     "languageId": "python"
    }
   },
   "outputs": [
    {
     "name": "stdout",
     "output_type": "stream",
     "text": [
      "[1 2 3 4 5 6 7 8]\n",
      "[[ 1  2  3  4]\n",
      " [ 5  6  7  8]\n",
      " [ 9 10 11 12]]\n",
      "[[ 1.  2.  3.  4.]\n",
      " [ 5.  6.  7.  8.]\n",
      " [ 9. 10. 11. 12.]]\n"
     ]
    }
   ],
   "source": [
    "import numpy as np\n",
    "a=np.array([1,2,3,4,5,6,7,8])\n",
    "np.save(\"hel\",a)\n",
    "data=np.load('hel.npy')\n",
    "print(data)\n",
    "csv_data=np.array([[1,2,3,4],[5,6,7,8],[9,10,11,12]])\n",
    "csv=csv_data.astype(int)\n",
    "c_data=np.savetxt(\"numpy_csv.csv\",csv_data)\n",
    "print(csv)\n",
    "c=np.loadtxt(\"numpy_csv.csv\")\n",
    "print(c)\n"
   ]
  },
  {
   "cell_type": "code",
   "execution_count": 43,
   "metadata": {
    "vscode": {
     "languageId": "python"
    }
   },
   "outputs": [
    {
     "name": "stdout",
     "output_type": "stream",
     "text": [
      "None\n",
      "[[1 2 3]\n",
      " [4 5 6]\n",
      " [7 8 6]]\n",
      "None\n"
     ]
    }
   ],
   "source": [
    "import numpy as np\n",
    "x=np.array([1,2,3,4,6,7,8,9])\n",
    "file_name=np.save(\"helnlo\",x)\n",
    "print(file_name)\n",
    "data=np.savetxt(\"second.csv\",x,delimiter=\",\")\n",
    "b=x.tofile('foo.csv',sep=\".\",format=\"%10.0f\")\n",
    "bb=np.array([[1,2,3],[4,5,6],[7,8,6]])\n",
    "print(bb)\n",
    "c=bb.tofile(\"hell.csv\",format=\"%10.0f\",sep=',')\n",
    "print(b)"
   ]
  },
  {
   "cell_type": "code",
   "execution_count": 50,
   "metadata": {
    "vscode": {
     "languageId": "python"
    }
   },
   "outputs": [
    {
     "name": "stdout",
     "output_type": "stream",
     "text": [
      "[[ 1  2  3  4]\n",
      " [ 5  6  7  8]\n",
      " [ 9 10 11 12]]\n",
      "None\n"
     ]
    }
   ],
   "source": [
    "import numpy  as nm\n",
    "narr=nm.array([[1,2,3,4],[5,6,7,8],[9,10,11,12]])\n",
    "print(narr)\n",
    "cs=np.savetxt(\"values.csv\",narr,fmt=\"%d\")\n",
    "print(cs)"
   ]
  }
 ],
 "metadata": {
  "kernelspec": {
   "display_name": "Python 3 (ipykernel)",
   "language": "python",
   "name": "python3"
  },
  "orig_nbformat": 4,
  "vscode": {
   "interpreter": {
    "hash": "a9cff5a362bc38ef45d817ae74b1af54d6a076e3d773891282bce078b815ba34"
   }
  }
 },
 "nbformat": 4,
 "nbformat_minor": 2
}
